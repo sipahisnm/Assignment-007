{
  "nbformat": 4,
  "nbformat_minor": 0,
  "metadata": {
    "colab": {
      "name": "Untitled28.ipynb",
      "provenance": [],
      "authorship_tag": "ABX9TyOBfqrp3vokqj4GV7JP3mng",
      "include_colab_link": true
    },
    "kernelspec": {
      "name": "python3",
      "display_name": "Python 3"
    }
  },
  "cells": [
    {
      "cell_type": "markdown",
      "metadata": {
        "id": "view-in-github",
        "colab_type": "text"
      },
      "source": [
        "<a href=\"https://colab.research.google.com/github/sipahisnm/Assignment-007/blob/main/Untitled28.ipynb\" target=\"_parent\"><img src=\"https://colab.research.google.com/assets/colab-badge.svg\" alt=\"Open In Colab\"/></a>"
      ]
    },
    {
      "cell_type": "code",
      "metadata": {
        "colab": {
          "base_uri": "https://localhost:8080/"
        },
        "id": "nENxEN7Fb2a-",
        "outputId": "56d3c809-45b4-4106-8c09-5a662821860b"
      },
      "source": [
        "year=int(input(\"please say any year that if it is leap year or not?:\"))\r\n",
        "\r\n",
        "leap=(f'{year} is a  leap year 'if year%4==0 and year%100!=0 or year%400==0 else f'{year} is not a leap year')\r\n",
        "print(leap)"
      ],
      "execution_count": 14,
      "outputs": [
        {
          "output_type": "stream",
          "text": [
            "please say any year that if it is leap year or not?:2300\n",
            "2300 is not a leap year\n"
          ],
          "name": "stdout"
        }
      ]
    }
  ]
}