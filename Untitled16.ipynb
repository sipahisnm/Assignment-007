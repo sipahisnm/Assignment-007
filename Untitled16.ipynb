{
  "nbformat": 4,
  "nbformat_minor": 0,
  "metadata": {
    "colab": {
      "name": "Untitled16.ipynb",
      "provenance": [],
      "authorship_tag": "ABX9TyNkcXuzfGr3Y0kJIyonn1KZ",
      "include_colab_link": true
    },
    "kernelspec": {
      "name": "python3",
      "display_name": "Python 3"
    }
  },
  "cells": [
    {
      "cell_type": "markdown",
      "metadata": {
        "id": "view-in-github",
        "colab_type": "text"
      },
      "source": [
        "<a href=\"https://colab.research.google.com/github/sipahisnm/Assignment-007/blob/main/Untitled16.ipynb\" target=\"_parent\"><img src=\"https://colab.research.google.com/assets/colab-badge.svg\" alt=\"Open In Colab\"/></a>"
      ]
    },
    {
      "cell_type": "code",
      "metadata": {
        "id": "w-444nHzHzgn"
      },
      "source": [
        "name=(input(\"What is your name?:\")).title()\r\n",
        "if name==\"Sinem\":\r\n",
        "  print(\"Hello ,Sinem! The password is:W@12\")\r\n",
        "else:\r\n",
        "  print(\"Hello, Amine! See you later.\")  "
      ],
      "execution_count": null,
      "outputs": []
    }
  ]
}