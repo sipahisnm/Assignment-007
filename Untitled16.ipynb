{
  "nbformat": 4,
  "nbformat_minor": 0,
  "metadata": {
    "colab": {
      "name": "Untitled16.ipynb",
      "provenance": [],
      "authorship_tag": "ABX9TyMMfkm6gv4vxaDgAQJfoUlS",
      "include_colab_link": true
    },
    "kernelspec": {
      "name": "python3",
      "display_name": "Python 3"
    }
  },
  "cells": [
    {
      "cell_type": "markdown",
      "metadata": {
        "id": "view-in-github",
        "colab_type": "text"
      },
      "source": [
        "<a href=\"https://colab.research.google.com/github/sipahisnm/Assignment-007/blob/main/Untitled16.ipynb\" target=\"_parent\"><img src=\"https://colab.research.google.com/assets/colab-badge.svg\" alt=\"Open In Colab\"/></a>"
      ]
    },
    {
      "cell_type": "code",
      "metadata": {
        "colab": {
          "base_uri": "https://localhost:8080/"
        },
        "id": "PhH79kZEKfBD",
        "outputId": "a4edb7ae-56d4-4028-c0f0-02d3d7b55424"
      },
      "source": [
        "age=(input(\"Are you a cigarette addict older than 75 years old?:\")).title()\r\n",
        "chronic=(input(\"Do you have a severe chronic disease?:\")).title()\r\n",
        "immune=(input(\"Is ypir immune system too weak?:\")).title()\r\n",
        "if (age and chronic and immune)==\"True\":\r\n",
        "  print(\"You are in risky group\")\r\n",
        "else:\r\n",
        "  print(\"You are not in risky group\")  \r\n"
      ],
      "execution_count": 29,
      "outputs": [
        {
          "output_type": "stream",
          "text": [
            "Are you a cigarette addict older than 75 years old?:true\n",
            "Do you have a severe chronic disease?:true\n",
            "Is ypir immune system too weak?:false\n",
            "You are not in risky group\n"
          ],
          "name": "stdout"
        }
      ]
    },
    {
      "cell_type": "code",
      "metadata": {
        "colab": {
          "base_uri": "https://localhost:8080/"
        },
        "id": "5lrGe1ExPKhs",
        "outputId": "8c8eb7f0-1489-4b1d-ee6e-4ce6415e5852"
      },
      "source": [
        "name=(input(\"What is your name?:\")).title()\r\n",
        "if name==\"Sinem\":\r\n",
        "  print(\"Hello,Sinem! The password is :W@12\")\r\n",
        "else:\r\n",
        "  print(\"Hello Amina! See you later.\")  "
      ],
      "execution_count": 33,
      "outputs": [
        {
          "output_type": "stream",
          "text": [
            "What is your name?:sinem\n",
            "Hello,Sinem! The password is :W@12\n"
          ],
          "name": "stdout"
        }
      ]
    },
    {
      "cell_type": "code",
      "metadata": {
        "id": "IsQ2rAjWQYhC"
      },
      "source": [
        ""
      ],
      "execution_count": null,
      "outputs": []
    }
  ]
}