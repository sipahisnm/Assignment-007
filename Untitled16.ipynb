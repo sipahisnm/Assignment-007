{
  "nbformat": 4,
  "nbformat_minor": 0,
  "metadata": {
    "colab": {
      "name": "Untitled16.ipynb",
      "provenance": [],
      "authorship_tag": "ABX9TyOf/qewfslJ7MZFU3adaxra",
      "include_colab_link": true
    },
    "kernelspec": {
      "name": "python3",
      "display_name": "Python 3"
    }
  },
  "cells": [
    {
      "cell_type": "markdown",
      "metadata": {
        "id": "view-in-github",
        "colab_type": "text"
      },
      "source": [
        "<a href=\"https://colab.research.google.com/github/sipahisnm/Assignment-007/blob/main/Untitled16.ipynb\" target=\"_parent\"><img src=\"https://colab.research.google.com/assets/colab-badge.svg\" alt=\"Open In Colab\"/></a>"
      ]
    },
    {
      "cell_type": "code",
      "metadata": {
        "colab": {
          "base_uri": "https://localhost:8080/"
        },
        "id": "PhH79kZEKfBD",
        "outputId": "a4edb7ae-56d4-4028-c0f0-02d3d7b55424"
      },
      "source": [
        "age=(input(\"Are you a cigarette addict older than 75 years old?:\")).title()\r\n",
        "chronic=(input(\"Do you have a severe chronic disease?:\")).title()\r\n",
        "immune=(input(\"Is ypir immune system too weak?:\")).title()\r\n",
        "if (age and chronic and immune)==\"True\":\r\n",
        "  print(\"You are in risky group\")\r\n",
        "else:\r\n",
        "  print(\"You are not in risky group\")  \r\n"
      ],
      "execution_count": 29,
      "outputs": [
        {
          "output_type": "stream",
          "text": [
            "Are you a cigarette addict older than 75 years old?:true\n",
            "Do you have a severe chronic disease?:true\n",
            "Is ypir immune system too weak?:false\n",
            "You are not in risky group\n"
          ],
          "name": "stdout"
        }
      ]
    }
  ]
}